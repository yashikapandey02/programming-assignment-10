{
 "cells": [
  {
   "cell_type": "code",
   "execution_count": null,
   "id": "c0cfe887",
   "metadata": {},
   "outputs": [],
   "source": [
    "1. Write a Python program to find sum of elements in list?"
   ]
  },
  {
   "cell_type": "code",
   "execution_count": 1,
   "id": "e487bdfc",
   "metadata": {},
   "outputs": [
    {
     "name": "stdout",
     "output_type": "stream",
     "text": [
      "[10, 9, 7, 5]\n",
      "sum of list:  31\n"
     ]
    }
   ],
   "source": [
    "# sum of elements\n",
    "\n",
    "def sumlist(list):\n",
    "    sum=0\n",
    "    for i in range(len(list)):\n",
    "        sum = sum+list[i]\n",
    "    return sum\n",
    "\n",
    "#initialise list\n",
    "list = [10, 9, 7, 5]\n",
    "print(list)\n",
    "print(\"sum of list: \",sumlist(list))"
   ]
  },
  {
   "cell_type": "code",
   "execution_count": null,
   "id": "515d5d13",
   "metadata": {},
   "outputs": [],
   "source": [
    "2. Write a Python program to Multiply all numbers in the list?"
   ]
  },
  {
   "cell_type": "code",
   "execution_count": 2,
   "id": "607cfd58",
   "metadata": {},
   "outputs": [
    {
     "name": "stdout",
     "output_type": "stream",
     "text": [
      "[11, 12, 4, 3]\n",
      "product: \n",
      "1584\n"
     ]
    }
   ],
   "source": [
    "#multiply all numbers in list\n",
    "\n",
    "#function\n",
    "def mul_list(list) :\n",
    "     \n",
    "    # Multiply elements one by one\n",
    "    product = 1\n",
    "    for i in list:\n",
    "         product = product * i\n",
    "    return product\n",
    "     \n",
    "\n",
    "list1 = [11, 12, 4, 3]\n",
    "print(list1)\n",
    "print(\"product: \") \n",
    "print(mul_list(list1))"
   ]
  },
  {
   "cell_type": "code",
   "execution_count": null,
   "id": "b91dcc3d",
   "metadata": {},
   "outputs": [],
   "source": [
    "3. Write a Python program to find smallest number in a list?"
   ]
  },
  {
   "cell_type": "code",
   "execution_count": 4,
   "id": "6be80bd2",
   "metadata": {},
   "outputs": [
    {
     "name": "stdout",
     "output_type": "stream",
     "text": [
      "Smallest number in the list is : 9.\n"
     ]
    }
   ],
   "source": [
    "a = [18, 52, 23, 41, 9,32]\n",
    "\n",
    "# find smallest number using min() function\n",
    "smallest = min(a)\n",
    "\n",
    "# print the smallest number\n",
    "print(f'Smallest number in the list is : {smallest}.')"
   ]
  },
  {
   "cell_type": "code",
   "execution_count": null,
   "id": "4ef43a35",
   "metadata": {},
   "outputs": [],
   "source": [
    "4. Write a Python program to find largest number in a list?"
   ]
  },
  {
   "cell_type": "code",
   "execution_count": 5,
   "id": "f455d78a",
   "metadata": {},
   "outputs": [
    {
     "name": "stdout",
     "output_type": "stream",
     "text": [
      "largest number in the list is : 52.\n"
     ]
    }
   ],
   "source": [
    "a = [18, 52, 23, 41, 9,32]\n",
    "\n",
    "# find slargest number using max() function\n",
    "largest = max(a)\n",
    "\n",
    "# print the largest number\n",
    "print(f'largest number in the list is : {largest}.')"
   ]
  },
  {
   "cell_type": "code",
   "execution_count": null,
   "id": "c4f11dfe",
   "metadata": {},
   "outputs": [],
   "source": [
    "6. Write a Python program to find N largest elements from a list?"
   ]
  },
  {
   "cell_type": "code",
   "execution_count": 6,
   "id": "221f063b",
   "metadata": {},
   "outputs": [
    {
     "name": "stdout",
     "output_type": "stream",
     "text": [
      "2 max elements in  [2, 6, 41, 85, 0, 3, 7, 6, 10]\n",
      "[85, 41]\n"
     ]
    }
   ],
   "source": [
    "#N largest elements\n",
    "\n",
    "#function\n",
    "def N_max_elements(list, N):\n",
    "    result_list = []\n",
    "  \n",
    "    for i in range(0, N): \n",
    "        maximum = 0\n",
    "          \n",
    "        for j in range(len(list)):     \n",
    "            if list[j] > maximum:\n",
    "                maximum = list[j]\n",
    "                  \n",
    "        list.remove(maximum)\n",
    "        result_list.append(maximum)\n",
    "          \n",
    "    return result_list\n",
    "  \n",
    "#test\n",
    "list1 = [2, 6, 41, 85, 0, 3, 7, 6, 10]\n",
    "N = 2\n",
    "\n",
    "print(N, \"max elements in \",list1)\n",
    "  \n",
    "# Calling and printing the function\n",
    "print(N_max_elements(list1, N))"
   ]
  },
  {
   "cell_type": "code",
   "execution_count": null,
   "id": "8aa7b7b7",
   "metadata": {},
   "outputs": [],
   "source": [
    "7. Write a Python program to print even numbers in a list?"
   ]
  },
  {
   "cell_type": "code",
   "execution_count": 1,
   "id": "24dff02b",
   "metadata": {},
   "outputs": [
    {
     "name": "stdout",
     "output_type": "stream",
     "text": [
      "Enter size of list 4\n",
      "Enter element of list 2\n",
      "Enter element of list 3\n",
      "Enter element of list 4\n",
      "Enter element of list 5\n",
      "Even numbers in  [2, 3, 4, 5]\n",
      "[2, 4]\n"
     ]
    }
   ],
   "source": [
    "#even numbers in list\n",
    "def even(list):\n",
    "    new_list=[]\n",
    "    for i in list:\n",
    "        if i%2==0:               \n",
    "            new_list.append(i)\n",
    "    return new_list\n",
    "l1=[]\n",
    "n=int(input(\"Enter size of list \"))\n",
    "for i in range(0,n):\n",
    "    e=int(input(\"Enter element of list \"))\n",
    "    l1.append(e)\n",
    "\n",
    "print(\"Even numbers in \",l1)\n",
    "print(even(l1))"
   ]
  },
  {
   "cell_type": "code",
   "execution_count": null,
   "id": "e9e07413",
   "metadata": {},
   "outputs": [],
   "source": [
    "8. Write a Python program to print odd numbers in a List?"
   ]
  },
  {
   "cell_type": "code",
   "execution_count": 2,
   "id": "907ea6a9",
   "metadata": {},
   "outputs": [
    {
     "name": "stdout",
     "output_type": "stream",
     "text": [
      "Enter size of list 5\n",
      "Enter element of list 2\n",
      "Enter element of list 4\n",
      "Enter element of list 7\n",
      "Enter element of list 33\n",
      "Enter element of list 8\n",
      "Odd numbers in  [2, 4, 7, 33, 8]\n",
      "[7, 33]\n"
     ]
    }
   ],
   "source": [
    "def odd(list):\n",
    "    new_list=[]\n",
    "    for i in list:\n",
    "        if i%2!=0:               \n",
    "            new_list.append(i)\n",
    "    return new_list\n",
    "l1=[]\n",
    "n=int(input(\"Enter size of list \"))\n",
    "for i in range(0,n):\n",
    "    e=int(input(\"Enter element of list \"))\n",
    "    l1.append(e)\n",
    "\n",
    "print(\"Odd numbers in \",l1)\n",
    "print(odd(l1))"
   ]
  },
  {
   "cell_type": "code",
   "execution_count": null,
   "id": "be416560",
   "metadata": {},
   "outputs": [],
   "source": [
    "9. Write a Python program to Remove empty List from List?"
   ]
  },
  {
   "cell_type": "code",
   "execution_count": 4,
   "id": "31de6b8d",
   "metadata": {},
   "outputs": [
    {
     "name": "stdout",
     "output_type": "stream",
     "text": [
      "The original list is : [8, 9, [], 4, [], [], 9]\n",
      "List after empty list removal : [8, 9, 4, 9]\n"
     ]
    }
   ],
   "source": [
    "def empty_list_remove(input_list):\n",
    "    new_list = []\n",
    "    for ele in input_list:\n",
    "        if ele:\n",
    "            new_list.append(ele)\n",
    "    return new_list\n",
    "input_list = [8, 9, [], 4, [], [], 9]\n",
    " \n",
    "# print initial list values\n",
    "print(f\"The original list is : {input_list}\")\n",
    "# function-call & print values\n",
    "print(f\"List after empty list removal : {empty_list_remove(input_list)}\")"
   ]
  },
  {
   "cell_type": "code",
   "execution_count": null,
   "id": "d140bd30",
   "metadata": {},
   "outputs": [],
   "source": [
    "10. Write a Python program to Cloning or Copying a list?"
   ]
  },
  {
   "cell_type": "code",
   "execution_count": 1,
   "id": "369eaf6f",
   "metadata": {},
   "outputs": [
    {
     "name": "stdout",
     "output_type": "stream",
     "text": [
      " enter a list 2,3,4,5,6\n",
      "Original List: ['2', ',', '3', ',', '4', ',', '5', ',', '6']\n",
      "After Cloning: ['2', ',', '3', ',', '4', ',', '5', ',', '6']\n"
     ]
    }
   ],
   "source": [
    "def Cloning(l1):\n",
    "    li_copy = l1[:]\n",
    "    return li_copy\n",
    "l1 = list(input(\" enter a list \"))\n",
    "l2 = Cloning(l1)\n",
    "print(\"Original List:\", l1)\n",
    "print(\"After Cloning:\", l2)"
   ]
  },
  {
   "cell_type": "code",
   "execution_count": null,
   "id": "e74079ed",
   "metadata": {},
   "outputs": [],
   "source": [
    "11. Write a Python program to Count occurrences of an element in a list?"
   ]
  },
  {
   "cell_type": "code",
   "execution_count": 1,
   "id": "0f8b30f4",
   "metadata": {},
   "outputs": [
    {
     "name": "stdout",
     "output_type": "stream",
     "text": [
      "Enter size of list 5\n",
      "Enter element of list 1\n",
      "Enter element of list 3\n",
      "Enter element of list 3\n",
      "Enter element of list 5\n",
      "Enter element of list 4\n",
      "Original list:  [1, 3, 3, 5, 4]\n",
      "Enter element to be checked list: 3\n",
      "3  has occurred  2 times\n"
     ]
    }
   ],
   "source": [
    "#occurrences in list\n",
    "\n",
    "def count_occurrence(list, n):\n",
    "    \n",
    "    count=0\n",
    "    for i in list:\n",
    "        if(i==n):\n",
    "          #update counter variable\n",
    "            count=count+1\n",
    "    return count\n",
    "l1=[]\n",
    "n=int(input(\"Enter size of list \"))\n",
    "for i in range(0,n):\n",
    "    e=int(input(\"Enter element of list \"))\n",
    "    l1.append(e)\n",
    "print(\"Original list: \",l1)\n",
    "\n",
    "x=int(input(\"Enter element to be checked list: \"))\n",
    "\n",
    "#function call\n",
    "print(x,\" has occurred \",count_occurrence(l1, x),\"times\")"
   ]
  },
  {
   "cell_type": "code",
   "execution_count": null,
   "id": "3c094684",
   "metadata": {},
   "outputs": [],
   "source": []
  }
 ],
 "metadata": {
  "kernelspec": {
   "display_name": "Python 3 (ipykernel)",
   "language": "python",
   "name": "python3"
  },
  "language_info": {
   "codemirror_mode": {
    "name": "ipython",
    "version": 3
   },
   "file_extension": ".py",
   "mimetype": "text/x-python",
   "name": "python",
   "nbconvert_exporter": "python",
   "pygments_lexer": "ipython3",
   "version": "3.9.7"
  }
 },
 "nbformat": 4,
 "nbformat_minor": 5
}
